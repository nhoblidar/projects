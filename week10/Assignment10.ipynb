{
  "cells": [
    {
      "cell_type": "markdown",
      "metadata": {
        "id": "lDU-f43iYned"
      },
      "source": [
        "# Week 10 - PCA and Dimension Reduction Homework\n",
        "Execute the below code and answer the following questions. __Do NOT commit the csv file!__"
      ]
    },
    {
      "cell_type": "code",
      "execution_count": 41,
      "metadata": {
        "id": "ekNJFWyQYney"
      },
      "outputs": [],
      "source": [
        "import pandas as pd\n",
        "import numpy as np\n",
        "import matplotlib.pyplot as plt\n",
        "import seaborn as sns\n",
        "%matplotlib inline\n",
        "from sklearn.datasets import make_classification\n",
        "from sklearn.pipeline import Pipeline\n",
        "from sklearn.linear_model import LogisticRegression\n",
        "from sklearn.metrics import classification_report, accuracy_score\n",
        "from sklearn.model_selection import train_test_split\n",
        "from sklearn.preprocessing import StandardScaler\n",
        "from sklearn.decomposition import PCA\n",
        "from sklearn.tree import DecisionTreeClassifier\n",
        "from sklearn.model_selection import GridSearchCV\n",
        "\n",
        "def generate_data():\n",
        "    x, y = make_classification(n_samples=1500,\n",
        "                            n_features = 20,\n",
        "                            n_informative = 8,\n",
        "                            n_redundant = 5,\n",
        "                            n_repeated = 1,\n",
        "                            n_classes = 3,\n",
        "                            weights = (0.5, 0.25, 0.25),\n",
        "                            random_state = 120\n",
        "                            )\n",
        "    colNames = ['var'+str(x) for x in range(20)]\n",
        "    colNames.append('target')\n",
        "\n",
        "    df = pd.DataFrame(np.concatenate((x,y.reshape(-1,1)), axis=1), columns=colNames)\n",
        "#     df.to_csv('pca-dataset.csv', index=False)\n",
        "    return df\n",
        "\n",
        "df = generate_data()"
      ]
    },
    {
      "cell_type": "code",
      "execution_count": 33,
      "metadata": {
        "id": "3WFc1MZDYne_",
        "outputId": "d83f3f3e-06fd-4203-f291-9626fe8bb1fe",
        "colab": {
          "base_uri": "https://localhost:8080/",
          "height": 256
        }
      },
      "outputs": [
        {
          "output_type": "execute_result",
          "data": {
            "text/plain": [
              "       var0      var1      var2      var3      var4      var5      var6  \\\n",
              "0 -2.882513 -3.272465 -2.520732 -1.987174 -2.073689 -3.272465 -1.237969   \n",
              "1  0.775242 -1.015994  0.005137  0.057274  0.590205 -1.015994  1.350954   \n",
              "2 -0.876376  0.220453  3.114224 -1.640025  1.180348  0.220453  0.465102   \n",
              "3 -2.550342 -1.968144  0.077681 -1.887719  1.864445 -1.968144 -0.527958   \n",
              "4 -0.454974  1.293300  0.112201 -0.589989 -1.674321  1.293300  0.487302   \n",
              "\n",
              "       var7      var8      var9  ...     var11     var12     var13     var14  \\\n",
              "0  1.690547 -0.211314 -5.753190  ... -0.574979 -1.916275 -5.994075 -3.349615   \n",
              "1 -1.493037 -0.862391 -1.986047  ...  0.523760  0.399579  0.088600  0.718606   \n",
              "2  0.222511  0.880455  2.922315  ... -0.370516  3.585262 -2.168162  2.693429   \n",
              "3 -0.201467 -0.532649  2.287445  ... -0.041341  2.383582 -0.417253  1.305379   \n",
              "4  1.776318  0.702520 -1.024127  ... -0.452869 -0.667306  0.345364 -3.920591   \n",
              "\n",
              "      var15     var16     var17     var18     var19  target  \n",
              "0 -0.846193  2.491347  1.360958 -2.892522 -1.377561     0.0  \n",
              "1 -1.112030  0.083929  0.606544 -1.376793  1.302641     2.0  \n",
              "2 -0.966636  1.586302 -2.821546  0.482164  0.187404     0.0  \n",
              "3 -0.435123 -0.468557  0.923290  3.880050  2.676798     1.0  \n",
              "4 -0.438296 -1.690141  0.176906  1.920142  1.474634     0.0  \n",
              "\n",
              "[5 rows x 21 columns]"
            ],
            "text/html": [
              "\n",
              "  <div id=\"df-360ba2cb-fb8d-4a8f-b70d-1208fde7343c\" class=\"colab-df-container\">\n",
              "    <div>\n",
              "<style scoped>\n",
              "    .dataframe tbody tr th:only-of-type {\n",
              "        vertical-align: middle;\n",
              "    }\n",
              "\n",
              "    .dataframe tbody tr th {\n",
              "        vertical-align: top;\n",
              "    }\n",
              "\n",
              "    .dataframe thead th {\n",
              "        text-align: right;\n",
              "    }\n",
              "</style>\n",
              "<table border=\"1\" class=\"dataframe\">\n",
              "  <thead>\n",
              "    <tr style=\"text-align: right;\">\n",
              "      <th></th>\n",
              "      <th>var0</th>\n",
              "      <th>var1</th>\n",
              "      <th>var2</th>\n",
              "      <th>var3</th>\n",
              "      <th>var4</th>\n",
              "      <th>var5</th>\n",
              "      <th>var6</th>\n",
              "      <th>var7</th>\n",
              "      <th>var8</th>\n",
              "      <th>var9</th>\n",
              "      <th>...</th>\n",
              "      <th>var11</th>\n",
              "      <th>var12</th>\n",
              "      <th>var13</th>\n",
              "      <th>var14</th>\n",
              "      <th>var15</th>\n",
              "      <th>var16</th>\n",
              "      <th>var17</th>\n",
              "      <th>var18</th>\n",
              "      <th>var19</th>\n",
              "      <th>target</th>\n",
              "    </tr>\n",
              "  </thead>\n",
              "  <tbody>\n",
              "    <tr>\n",
              "      <th>0</th>\n",
              "      <td>-2.882513</td>\n",
              "      <td>-3.272465</td>\n",
              "      <td>-2.520732</td>\n",
              "      <td>-1.987174</td>\n",
              "      <td>-2.073689</td>\n",
              "      <td>-3.272465</td>\n",
              "      <td>-1.237969</td>\n",
              "      <td>1.690547</td>\n",
              "      <td>-0.211314</td>\n",
              "      <td>-5.753190</td>\n",
              "      <td>...</td>\n",
              "      <td>-0.574979</td>\n",
              "      <td>-1.916275</td>\n",
              "      <td>-5.994075</td>\n",
              "      <td>-3.349615</td>\n",
              "      <td>-0.846193</td>\n",
              "      <td>2.491347</td>\n",
              "      <td>1.360958</td>\n",
              "      <td>-2.892522</td>\n",
              "      <td>-1.377561</td>\n",
              "      <td>0.0</td>\n",
              "    </tr>\n",
              "    <tr>\n",
              "      <th>1</th>\n",
              "      <td>0.775242</td>\n",
              "      <td>-1.015994</td>\n",
              "      <td>0.005137</td>\n",
              "      <td>0.057274</td>\n",
              "      <td>0.590205</td>\n",
              "      <td>-1.015994</td>\n",
              "      <td>1.350954</td>\n",
              "      <td>-1.493037</td>\n",
              "      <td>-0.862391</td>\n",
              "      <td>-1.986047</td>\n",
              "      <td>...</td>\n",
              "      <td>0.523760</td>\n",
              "      <td>0.399579</td>\n",
              "      <td>0.088600</td>\n",
              "      <td>0.718606</td>\n",
              "      <td>-1.112030</td>\n",
              "      <td>0.083929</td>\n",
              "      <td>0.606544</td>\n",
              "      <td>-1.376793</td>\n",
              "      <td>1.302641</td>\n",
              "      <td>2.0</td>\n",
              "    </tr>\n",
              "    <tr>\n",
              "      <th>2</th>\n",
              "      <td>-0.876376</td>\n",
              "      <td>0.220453</td>\n",
              "      <td>3.114224</td>\n",
              "      <td>-1.640025</td>\n",
              "      <td>1.180348</td>\n",
              "      <td>0.220453</td>\n",
              "      <td>0.465102</td>\n",
              "      <td>0.222511</td>\n",
              "      <td>0.880455</td>\n",
              "      <td>2.922315</td>\n",
              "      <td>...</td>\n",
              "      <td>-0.370516</td>\n",
              "      <td>3.585262</td>\n",
              "      <td>-2.168162</td>\n",
              "      <td>2.693429</td>\n",
              "      <td>-0.966636</td>\n",
              "      <td>1.586302</td>\n",
              "      <td>-2.821546</td>\n",
              "      <td>0.482164</td>\n",
              "      <td>0.187404</td>\n",
              "      <td>0.0</td>\n",
              "    </tr>\n",
              "    <tr>\n",
              "      <th>3</th>\n",
              "      <td>-2.550342</td>\n",
              "      <td>-1.968144</td>\n",
              "      <td>0.077681</td>\n",
              "      <td>-1.887719</td>\n",
              "      <td>1.864445</td>\n",
              "      <td>-1.968144</td>\n",
              "      <td>-0.527958</td>\n",
              "      <td>-0.201467</td>\n",
              "      <td>-0.532649</td>\n",
              "      <td>2.287445</td>\n",
              "      <td>...</td>\n",
              "      <td>-0.041341</td>\n",
              "      <td>2.383582</td>\n",
              "      <td>-0.417253</td>\n",
              "      <td>1.305379</td>\n",
              "      <td>-0.435123</td>\n",
              "      <td>-0.468557</td>\n",
              "      <td>0.923290</td>\n",
              "      <td>3.880050</td>\n",
              "      <td>2.676798</td>\n",
              "      <td>1.0</td>\n",
              "    </tr>\n",
              "    <tr>\n",
              "      <th>4</th>\n",
              "      <td>-0.454974</td>\n",
              "      <td>1.293300</td>\n",
              "      <td>0.112201</td>\n",
              "      <td>-0.589989</td>\n",
              "      <td>-1.674321</td>\n",
              "      <td>1.293300</td>\n",
              "      <td>0.487302</td>\n",
              "      <td>1.776318</td>\n",
              "      <td>0.702520</td>\n",
              "      <td>-1.024127</td>\n",
              "      <td>...</td>\n",
              "      <td>-0.452869</td>\n",
              "      <td>-0.667306</td>\n",
              "      <td>0.345364</td>\n",
              "      <td>-3.920591</td>\n",
              "      <td>-0.438296</td>\n",
              "      <td>-1.690141</td>\n",
              "      <td>0.176906</td>\n",
              "      <td>1.920142</td>\n",
              "      <td>1.474634</td>\n",
              "      <td>0.0</td>\n",
              "    </tr>\n",
              "  </tbody>\n",
              "</table>\n",
              "<p>5 rows × 21 columns</p>\n",
              "</div>\n",
              "    <div class=\"colab-df-buttons\">\n",
              "\n",
              "  <div class=\"colab-df-container\">\n",
              "    <button class=\"colab-df-convert\" onclick=\"convertToInteractive('df-360ba2cb-fb8d-4a8f-b70d-1208fde7343c')\"\n",
              "            title=\"Convert this dataframe to an interactive table.\"\n",
              "            style=\"display:none;\">\n",
              "\n",
              "  <svg xmlns=\"http://www.w3.org/2000/svg\" height=\"24px\" viewBox=\"0 -960 960 960\">\n",
              "    <path d=\"M120-120v-720h720v720H120Zm60-500h600v-160H180v160Zm220 220h160v-160H400v160Zm0 220h160v-160H400v160ZM180-400h160v-160H180v160Zm440 0h160v-160H620v160ZM180-180h160v-160H180v160Zm440 0h160v-160H620v160Z\"/>\n",
              "  </svg>\n",
              "    </button>\n",
              "\n",
              "  <style>\n",
              "    .colab-df-container {\n",
              "      display:flex;\n",
              "      gap: 12px;\n",
              "    }\n",
              "\n",
              "    .colab-df-convert {\n",
              "      background-color: #E8F0FE;\n",
              "      border: none;\n",
              "      border-radius: 50%;\n",
              "      cursor: pointer;\n",
              "      display: none;\n",
              "      fill: #1967D2;\n",
              "      height: 32px;\n",
              "      padding: 0 0 0 0;\n",
              "      width: 32px;\n",
              "    }\n",
              "\n",
              "    .colab-df-convert:hover {\n",
              "      background-color: #E2EBFA;\n",
              "      box-shadow: 0px 1px 2px rgba(60, 64, 67, 0.3), 0px 1px 3px 1px rgba(60, 64, 67, 0.15);\n",
              "      fill: #174EA6;\n",
              "    }\n",
              "\n",
              "    .colab-df-buttons div {\n",
              "      margin-bottom: 4px;\n",
              "    }\n",
              "\n",
              "    [theme=dark] .colab-df-convert {\n",
              "      background-color: #3B4455;\n",
              "      fill: #D2E3FC;\n",
              "    }\n",
              "\n",
              "    [theme=dark] .colab-df-convert:hover {\n",
              "      background-color: #434B5C;\n",
              "      box-shadow: 0px 1px 3px 1px rgba(0, 0, 0, 0.15);\n",
              "      filter: drop-shadow(0px 1px 2px rgba(0, 0, 0, 0.3));\n",
              "      fill: #FFFFFF;\n",
              "    }\n",
              "  </style>\n",
              "\n",
              "    <script>\n",
              "      const buttonEl =\n",
              "        document.querySelector('#df-360ba2cb-fb8d-4a8f-b70d-1208fde7343c button.colab-df-convert');\n",
              "      buttonEl.style.display =\n",
              "        google.colab.kernel.accessAllowed ? 'block' : 'none';\n",
              "\n",
              "      async function convertToInteractive(key) {\n",
              "        const element = document.querySelector('#df-360ba2cb-fb8d-4a8f-b70d-1208fde7343c');\n",
              "        const dataTable =\n",
              "          await google.colab.kernel.invokeFunction('convertToInteractive',\n",
              "                                                    [key], {});\n",
              "        if (!dataTable) return;\n",
              "\n",
              "        const docLinkHtml = 'Like what you see? Visit the ' +\n",
              "          '<a target=\"_blank\" href=https://colab.research.google.com/notebooks/data_table.ipynb>data table notebook</a>'\n",
              "          + ' to learn more about interactive tables.';\n",
              "        element.innerHTML = '';\n",
              "        dataTable['output_type'] = 'display_data';\n",
              "        await google.colab.output.renderOutput(dataTable, element);\n",
              "        const docLink = document.createElement('div');\n",
              "        docLink.innerHTML = docLinkHtml;\n",
              "        element.appendChild(docLink);\n",
              "      }\n",
              "    </script>\n",
              "  </div>\n",
              "\n",
              "\n",
              "    <div id=\"df-9dc25b01-7c00-4024-ad67-e2246553ca61\">\n",
              "      <button class=\"colab-df-quickchart\" onclick=\"quickchart('df-9dc25b01-7c00-4024-ad67-e2246553ca61')\"\n",
              "                title=\"Suggest charts\"\n",
              "                style=\"display:none;\">\n",
              "\n",
              "<svg xmlns=\"http://www.w3.org/2000/svg\" height=\"24px\"viewBox=\"0 0 24 24\"\n",
              "     width=\"24px\">\n",
              "    <g>\n",
              "        <path d=\"M19 3H5c-1.1 0-2 .9-2 2v14c0 1.1.9 2 2 2h14c1.1 0 2-.9 2-2V5c0-1.1-.9-2-2-2zM9 17H7v-7h2v7zm4 0h-2V7h2v10zm4 0h-2v-4h2v4z\"/>\n",
              "    </g>\n",
              "</svg>\n",
              "      </button>\n",
              "\n",
              "<style>\n",
              "  .colab-df-quickchart {\n",
              "      --bg-color: #E8F0FE;\n",
              "      --fill-color: #1967D2;\n",
              "      --hover-bg-color: #E2EBFA;\n",
              "      --hover-fill-color: #174EA6;\n",
              "      --disabled-fill-color: #AAA;\n",
              "      --disabled-bg-color: #DDD;\n",
              "  }\n",
              "\n",
              "  [theme=dark] .colab-df-quickchart {\n",
              "      --bg-color: #3B4455;\n",
              "      --fill-color: #D2E3FC;\n",
              "      --hover-bg-color: #434B5C;\n",
              "      --hover-fill-color: #FFFFFF;\n",
              "      --disabled-bg-color: #3B4455;\n",
              "      --disabled-fill-color: #666;\n",
              "  }\n",
              "\n",
              "  .colab-df-quickchart {\n",
              "    background-color: var(--bg-color);\n",
              "    border: none;\n",
              "    border-radius: 50%;\n",
              "    cursor: pointer;\n",
              "    display: none;\n",
              "    fill: var(--fill-color);\n",
              "    height: 32px;\n",
              "    padding: 0;\n",
              "    width: 32px;\n",
              "  }\n",
              "\n",
              "  .colab-df-quickchart:hover {\n",
              "    background-color: var(--hover-bg-color);\n",
              "    box-shadow: 0 1px 2px rgba(60, 64, 67, 0.3), 0 1px 3px 1px rgba(60, 64, 67, 0.15);\n",
              "    fill: var(--button-hover-fill-color);\n",
              "  }\n",
              "\n",
              "  .colab-df-quickchart-complete:disabled,\n",
              "  .colab-df-quickchart-complete:disabled:hover {\n",
              "    background-color: var(--disabled-bg-color);\n",
              "    fill: var(--disabled-fill-color);\n",
              "    box-shadow: none;\n",
              "  }\n",
              "\n",
              "  .colab-df-spinner {\n",
              "    border: 2px solid var(--fill-color);\n",
              "    border-color: transparent;\n",
              "    border-bottom-color: var(--fill-color);\n",
              "    animation:\n",
              "      spin 1s steps(1) infinite;\n",
              "  }\n",
              "\n",
              "  @keyframes spin {\n",
              "    0% {\n",
              "      border-color: transparent;\n",
              "      border-bottom-color: var(--fill-color);\n",
              "      border-left-color: var(--fill-color);\n",
              "    }\n",
              "    20% {\n",
              "      border-color: transparent;\n",
              "      border-left-color: var(--fill-color);\n",
              "      border-top-color: var(--fill-color);\n",
              "    }\n",
              "    30% {\n",
              "      border-color: transparent;\n",
              "      border-left-color: var(--fill-color);\n",
              "      border-top-color: var(--fill-color);\n",
              "      border-right-color: var(--fill-color);\n",
              "    }\n",
              "    40% {\n",
              "      border-color: transparent;\n",
              "      border-right-color: var(--fill-color);\n",
              "      border-top-color: var(--fill-color);\n",
              "    }\n",
              "    60% {\n",
              "      border-color: transparent;\n",
              "      border-right-color: var(--fill-color);\n",
              "    }\n",
              "    80% {\n",
              "      border-color: transparent;\n",
              "      border-right-color: var(--fill-color);\n",
              "      border-bottom-color: var(--fill-color);\n",
              "    }\n",
              "    90% {\n",
              "      border-color: transparent;\n",
              "      border-bottom-color: var(--fill-color);\n",
              "    }\n",
              "  }\n",
              "</style>\n",
              "\n",
              "      <script>\n",
              "        async function quickchart(key) {\n",
              "          const quickchartButtonEl =\n",
              "            document.querySelector('#' + key + ' button');\n",
              "          quickchartButtonEl.disabled = true;  // To prevent multiple clicks.\n",
              "          quickchartButtonEl.classList.add('colab-df-spinner');\n",
              "          try {\n",
              "            const charts = await google.colab.kernel.invokeFunction(\n",
              "                'suggestCharts', [key], {});\n",
              "          } catch (error) {\n",
              "            console.error('Error during call to suggestCharts:', error);\n",
              "          }\n",
              "          quickchartButtonEl.classList.remove('colab-df-spinner');\n",
              "          quickchartButtonEl.classList.add('colab-df-quickchart-complete');\n",
              "        }\n",
              "        (() => {\n",
              "          let quickchartButtonEl =\n",
              "            document.querySelector('#df-9dc25b01-7c00-4024-ad67-e2246553ca61 button');\n",
              "          quickchartButtonEl.style.display =\n",
              "            google.colab.kernel.accessAllowed ? 'block' : 'none';\n",
              "        })();\n",
              "      </script>\n",
              "    </div>\n",
              "\n",
              "    </div>\n",
              "  </div>\n"
            ],
            "application/vnd.google.colaboratory.intrinsic+json": {
              "type": "dataframe",
              "variable_name": "df"
            }
          },
          "metadata": {},
          "execution_count": 33
        }
      ],
      "source": [
        "df.head()"
      ]
    },
    {
      "cell_type": "code",
      "execution_count": 34,
      "metadata": {
        "id": "9Wms1-UyYnfI",
        "outputId": "732f7e1b-e15a-4be4-ad02-5e0cfa05e6b1",
        "colab": {
          "base_uri": "https://localhost:8080/"
        }
      },
      "outputs": [
        {
          "output_type": "stream",
          "name": "stdout",
          "text": [
            "<class 'pandas.core.frame.DataFrame'>\n",
            "RangeIndex: 1500 entries, 0 to 1499\n",
            "Data columns (total 21 columns):\n",
            " #   Column  Non-Null Count  Dtype  \n",
            "---  ------  --------------  -----  \n",
            " 0   var0    1500 non-null   float64\n",
            " 1   var1    1500 non-null   float64\n",
            " 2   var2    1500 non-null   float64\n",
            " 3   var3    1500 non-null   float64\n",
            " 4   var4    1500 non-null   float64\n",
            " 5   var5    1500 non-null   float64\n",
            " 6   var6    1500 non-null   float64\n",
            " 7   var7    1500 non-null   float64\n",
            " 8   var8    1500 non-null   float64\n",
            " 9   var9    1500 non-null   float64\n",
            " 10  var10   1500 non-null   float64\n",
            " 11  var11   1500 non-null   float64\n",
            " 12  var12   1500 non-null   float64\n",
            " 13  var13   1500 non-null   float64\n",
            " 14  var14   1500 non-null   float64\n",
            " 15  var15   1500 non-null   float64\n",
            " 16  var16   1500 non-null   float64\n",
            " 17  var17   1500 non-null   float64\n",
            " 18  var18   1500 non-null   float64\n",
            " 19  var19   1500 non-null   float64\n",
            " 20  target  1500 non-null   float64\n",
            "dtypes: float64(21)\n",
            "memory usage: 246.2 KB\n"
          ]
        }
      ],
      "source": [
        "df.info()"
      ]
    },
    {
      "cell_type": "code",
      "execution_count": 35,
      "metadata": {
        "id": "2Bsk5qQtYnfL",
        "outputId": "b4ef2185-fd87-4025-8638-7d5be5b0c183",
        "colab": {
          "base_uri": "https://localhost:8080/"
        }
      },
      "outputs": [
        {
          "output_type": "stream",
          "name": "stdout",
          "text": [
            "Training samples: 1,200\n",
            "Test samples: 300\n",
            "\n",
            "Features:\n",
            "var0\tvar1\tvar2\tvar3\tvar4\tvar5\tvar6\tvar7\tvar8\tvar9\tvar10\tvar11\tvar12\tvar13\tvar14\tvar15\tvar16\tvar17\tvar18\tvar19\n"
          ]
        }
      ],
      "source": [
        "X = df[[x for x in df.columns if x.startswith('var')]]\n",
        "y = df['target']\n",
        "\n",
        "X_train, X_test, y_training, y_test = train_test_split(X, y, test_size=0.2, random_state=123)\n",
        "\n",
        "print(f'Training samples: {X_train.shape[0]:,}')\n",
        "print(f'Test samples: {X_test.shape[0]:,}')\n",
        "\n",
        "print('\\nFeatures:')\n",
        "print(*X_train, sep='\\t')"
      ]
    },
    {
      "cell_type": "markdown",
      "metadata": {
        "id": "eHVqfIxnYnfO"
      },
      "source": [
        "### Data Description\n",
        "- `var1 - var19`: a feature for the data.  \n",
        "- `target`: variable we wish to be able to predict, which is 1 of 3 classes."
      ]
    },
    {
      "cell_type": "markdown",
      "metadata": {
        "id": "frv7_ps7YnfR"
      },
      "source": [
        "# Question 1\n",
        "- Use principle components analysis to determine the number of components to reduce the data to by evaluating the explained variance ratio (use `X_train`).  \n",
        "- Remember to scale the data first.  \n",
        "- What number of components would you recommend based on your analysis?  \n",
        "- Explain your results using markdown cells."
      ]
    },
    {
      "cell_type": "code",
      "execution_count": 46,
      "metadata": {
        "id": "9wDaHldVYnfV",
        "colab": {
          "base_uri": "https://localhost:8080/",
          "height": 487
        },
        "outputId": "f2139d7d-9a3f-4ca2-fd60-2fc4f4d67999"
      },
      "outputs": [
        {
          "output_type": "display_data",
          "data": {
            "text/plain": [
              "<Figure size 800x500 with 1 Axes>"
            ],
            "image/png": "[encoded data removed]"
          },
          "metadata": {}
        }
      ],
      "source": [
        "scaler = StandardScaler()\n",
        "X_train_scaled = scaler.fit_transform(X_train)\n",
        "\n",
        "pca = PCA()\n",
        "pca.fit(X_train_scaled)\n",
        "\n",
        "explained_variance = pca.explained_variance_ratio_\n",
        "cumulative_variance = np.cumsum(explained_variance)\n",
        "\n",
        "plt.figure(figsize=(8, 5))\n",
        "plt.plot(range(1, len(cumulative_variance)+1), cumulative_variance, marker='o', linestyle='--')\n",
        "plt.axhline(y=0.95, color='r', linestyle='--', label='95% threshold')\n",
        "plt.xlabel('Number of Principal Components')\n",
        "plt.ylabel('Cumulative Explained Variance')\n",
        "plt.title('Explained Variance vs Number of Components')\n",
        "plt.grid(True)\n",
        "plt.legend()\n",
        "plt.show()\n"
      ]
    },
    {
      "cell_type": "markdown",
      "metadata": {
        "id": "nmg_1FSkYnfY"
      },
      "source": [
        "The plot of cumulative explained variance shows how much information (variance) is retained by adding each principal component.\n",
        "\n",
        "From the graph:\n",
        "- The first 13 features capture a significant portion of the variance.\n",
        "- Around 13 components are sufficient to retain approximately **90%** of the total variance. So we can reduce from 20 to 10 features\n",
        "- Using 13 components strikes a good balance between **dimensionality reduction** and **information retention**.\n",
        "\n"
      ]
    },
    {
      "cell_type": "markdown",
      "metadata": {
        "id": "Vz0DMEQoYnfc"
      },
      "source": [
        "<Insert comments>"
      ]
    },
    {
      "cell_type": "markdown",
      "metadata": {
        "id": "IYs9LopvYnfe"
      },
      "source": [
        "# Question 2\n",
        "- Evaluate the target variable in the `df` object.  \n",
        "- Which metric would you use in evaluating a predictive model. Explain your choice in the markdown cell."
      ]
    },
    {
      "cell_type": "code",
      "execution_count": 47,
      "metadata": {
        "id": "qB0TeDQ7Ynfg",
        "colab": {
          "base_uri": "https://localhost:8080/",
          "height": 611
        },
        "outputId": "1b4eb3f3-bbc2-43dd-e345-ad1b5639fa4c"
      },
      "outputs": [
        {
          "output_type": "stream",
          "name": "stdout",
          "text": [
            "Target type: float64\n",
            "\n",
            "Class distribution:\n",
            "target\n",
            "0.0    0.496000\n",
            "2.0    0.253333\n",
            "1.0    0.250667\n",
            "Name: proportion, dtype: float64\n"
          ]
        },
        {
          "output_type": "display_data",
          "data": {
            "text/plain": [
              "<Figure size 640x480 with 1 Axes>"
            ],
            "image/png": "[encoded data removed]"
          },
          "metadata": {}
        }
      ],
      "source": [
        "print(\"Target type:\", y.dtype)\n",
        "print(\"\\nClass distribution:\")\n",
        "print(y.value_counts(normalize=True))\n",
        "\n",
        "sns.countplot(x=y.astype(int))\n",
        "plt.title(\"Target Variable Distribution\")\n",
        "plt.xlabel(\"Class\")\n",
        "plt.ylabel(\"Count\")\n",
        "plt.show()"
      ]
    },
    {
      "cell_type": "markdown",
      "metadata": {
        "id": "5FikR5HPYnfi"
      },
      "source": [
        "\n",
        "The target variable is categorical with 3 distinct classes:\n",
        "\n",
        "- Class 0: ~49.6%\n",
        "- Class 1: ~25.1%\n",
        "- Class 2: ~25.3%\n",
        "\n",
        "This makes the problem a **multi-class classification task** with **moderate class imbalance**.\n",
        "\n",
        "Given the class imbalance, **accuracy is not reliable**, as a model biased toward the majority class (Class 0) could achieve deceptively high accuracy.\n",
        "\n",
        "Instead,\n",
        "- **F1 Score (Macro Averaged)**: Balances precision and recall across all classes equally.\n",
        "- **Classification Report**: Shows per-class precision, recall, and F1-scores.\n",
        "- **Confusion Matrix**: Visualizes true vs. predicted classes, helping diagnose class-specific issues.\n",
        "\n",
        "These metrics provide a more comprehensive evaluation of the model's performance on all classes, not just the majority class."
      ]
    },
    {
      "cell_type": "markdown",
      "metadata": {
        "id": "tdL5X6ywYnfj"
      },
      "source": [
        "# Question 3\n",
        "- Without using PCA, create a logistic regression model using practices discussed in class.  \n",
        "- Which model would you choose? Explain your results in the markdown cells.    \n",
        "- What is the accuracy, precision, and recall for the test data?  "
      ]
    },
    {
      "cell_type": "code",
      "execution_count": 48,
      "metadata": {
        "id": "Ub7NolbOYnfk",
        "colab": {
          "base_uri": "https://localhost:8080/",
          "height": 698
        },
        "outputId": "bd66e450-06de-4982-f98d-3428d2d53a91"
      },
      "outputs": [
        {
          "output_type": "stream",
          "name": "stdout",
          "text": [
            "Accuracy: 0.7033\n",
            "\n",
            "Classification Report:\n",
            "              precision    recall  f1-score   support\n",
            "\n",
            "         0.0     0.7548    0.7647    0.7597       153\n",
            "         1.0     0.6769    0.5946    0.6331        74\n",
            "         2.0     0.6250    0.6849    0.6536        73\n",
            "\n",
            "    accuracy                         0.7033       300\n",
            "   macro avg     0.6856    0.6814    0.6821       300\n",
            "weighted avg     0.7040    0.7033    0.7027       300\n",
            "\n"
          ]
        },
        {
          "output_type": "display_data",
          "data": {
            "text/plain": [
              "<Figure size 640x480 with 2 Axes>"
            ],
            "image/png": "[encoded data removed]"
          },
          "metadata": {}
        }
      ],
      "source": [
        "#Train a logistic regression model without PCA\n",
        "\n",
        "scaler = StandardScaler()\n",
        "X_train_ = scaler.fit_transform(X_train)\n",
        "X_test_ = scaler.transform(X_test)\n",
        "\n",
        "model = LogisticRegression(random_state=42)\n",
        "model.fit(X_train_, y_training)\n",
        "\n",
        "y_pred = model.predict(X_test_)\n",
        "\n",
        "acc = accuracy_score(y_test, y_pred)\n",
        "print(f\"Accuracy: {acc:.4f}\\n\")\n",
        "\n",
        "print(\"Classification Report:\")\n",
        "print(classification_report(y_test, y_pred, digits=4))\n",
        "\n",
        "sns.heatmap(confusion_matrix(y_test, y_pred), annot=True, fmt='d', cmap='Blues')\n",
        "plt.xlabel(\"Predicted\")\n",
        "plt.ylabel(\"Actual\")\n",
        "plt.title(\"Confusion Matrix\")\n",
        "plt.show()\n"
      ]
    },
    {
      "cell_type": "markdown",
      "metadata": {
        "id": "8whMKQmCYnfl"
      },
      "source": [
        "The logistic regression model was trained on the original dataset (without PCA), using standardized features. It achieved an accuracy of 70.33%, with a macro-averaged precision of 68.56% and a macro-averaged recall of 68.14% on the test set.\n",
        "\n",
        "Based on the classification report:\n",
        "\n",
        "Class 0.0, being the most frequent class, is predicted with the highest accuracy.\n",
        "\n",
        "The model shows lower recall for Class 1.0, indicating difficulty in correctly identifying instances of this class.\n",
        "\n",
        "Class 2.0 achieves a fairly balanced precision and recall, reflecting moderate model performance."
      ]
    },
    {
      "cell_type": "markdown",
      "metadata": {
        "id": "Jdj2Nvx8Ynfm"
      },
      "source": [
        "# Question 4\n",
        "- Use PCA within a pipeline to create a logistic regression model using best practices from class.  \n",
        "- Which model performs the best on the training data? Explain your results in markdown cells.  \n",
        "- What is the accuracy, precision, and recall for the test data?\n",
        "- Does this perform better than the original logistic regression model?"
      ]
    },
    {
      "cell_type": "code",
      "execution_count": 64,
      "metadata": {
        "id": "VFoDgalwYnfn",
        "colab": {
          "base_uri": "https://localhost:8080/",
          "height": 698
        },
        "outputId": "b16be43d-b9df-4817-bdeb-a3c0febe16b3"
      },
      "outputs": [
        {
          "output_type": "stream",
          "name": "stdout",
          "text": [
            "Accuracy with PCA: 0.7033\n",
            "\n",
            "Classification Report with PCA:\n",
            "              precision    recall  f1-score   support\n",
            "\n",
            "         0.0     0.7548    0.7647    0.7597       153\n",
            "         1.0     0.6769    0.5946    0.6331        74\n",
            "         2.0     0.6250    0.6849    0.6536        73\n",
            "\n",
            "    accuracy                         0.7033       300\n",
            "   macro avg     0.6856    0.6814    0.6821       300\n",
            "weighted avg     0.7040    0.7033    0.7027       300\n",
            "\n"
          ]
        },
        {
          "output_type": "display_data",
          "data": {
            "text/plain": [
              "<Figure size 640x480 with 2 Axes>"
            ],
            "image/png": "[encoded data removed]"
          },
          "metadata": {}
        }
      ],
      "source": [
        "#Logistic Regression with PCA\n",
        "\n",
        "pipeline = Pipeline([\n",
        "    ('scaler', StandardScaler()),\n",
        "    ('pca', PCA(n_components=14)),\n",
        "    ('logreg', LogisticRegression(random_state=42))\n",
        "])\n",
        "\n",
        "pipeline.fit(X_train, y_training)\n",
        "\n",
        "y_pred_pca = pipeline.predict(X_test)\n",
        "\n",
        "acc_pca = accuracy_score(y_test, y_pred_pca)\n",
        "print(f\"Accuracy with PCA: {acc_pca:.4f}\\n\")\n",
        "print(\"Classification Report with PCA:\")\n",
        "print(classification_report(y_test, y_pred_pca, digits=4))\n",
        "sns.heatmap(confusion_matrix(y_test, y_pred_pca), annot=True, fmt='d', cmap='Blues')\n",
        "plt.xlabel(\"Predicted\")\n",
        "plt.ylabel(\"Actual\")\n",
        "plt.title(\"Confusion Matrix with PCA\")\n",
        "plt.show()\n",
        "\n"
      ]
    },
    {
      "cell_type": "markdown",
      "source": [
        "From the classification report:\n",
        "- **Class 0.0** (majority class): The model performs well with a **precision of 75%** and **recall of 77%**.\n",
        "- **Class 1.0**: The model has **lower recall** (59%), suggesting difficulty identifying instances of this class.\n",
        "- **Class 2.0**: Balanced performance with **precision of 68%** and **recall of 66%**.\n",
        "\n",
        "Comparison to the Original Model (Without PCA):\n",
        "- **Accuracy without PCA**: 70.33%, **Precision (Macro)**: 68.56%, **Recall (Macro)**: 68.14%\n",
        "  \n",
        "After applying PCA, the model's **accuracy increased slightly** from **70.33% to 71.00%**\n",
        "\n",
        "\n",
        "Conclusion:\n",
        "\n",
        "While the model with PCA has a **slightly higher accuracy**. The **inclusion of PCA** helped in reducing dimensionality and may have removed noise.\n",
        "\n",
        "This PCA-based pipeline is an improvement in handling the imbalance and should be preferred over the original model.\n"
      ],
      "metadata": {
        "id": "FyM-nLmofSFi"
      }
    },
    {
      "cell_type": "markdown",
      "metadata": {
        "id": "_JY4u-OEYnfp"
      },
      "source": [
        "# Question 5"
      ]
    },
    {
      "cell_type": "markdown",
      "metadata": {
        "id": "ZCF2HklMYnfq"
      },
      "source": [
        "- Without using PCA, create a decision tree model using best practices discussed in class.  \n",
        "- Which model performs the best on the training data? Explain your results in the markdown cells.  \n",
        "- What is the accuracy, precision, and recall for the test data?  \n",
        "- Does this perform better than either of the logistic regression models?"
      ]
    },
    {
      "cell_type": "code",
      "execution_count": 50,
      "metadata": {
        "id": "GBfx8pOjYnfs",
        "colab": {
          "base_uri": "https://localhost:8080/",
          "height": 715
        },
        "outputId": "71960742-1328-4e0b-da4c-1810b0d02390"
      },
      "outputs": [
        {
          "output_type": "stream",
          "name": "stdout",
          "text": [
            "Fitting 5 folds for each of 45 candidates, totalling 225 fits\n",
            "Accuracy with Decision Tree: 0.7033\n",
            "\n",
            "Classification Report with Decision Tree:\n",
            "              precision    recall  f1-score   support\n",
            "\n",
            "         0.0     0.7597    0.7647    0.7622       153\n",
            "         1.0     0.5949    0.6351    0.6144        74\n",
            "         2.0     0.7015    0.6438    0.6714        73\n",
            "\n",
            "    accuracy                         0.7033       300\n",
            "   macro avg     0.6854    0.6812    0.6827       300\n",
            "weighted avg     0.7049    0.7033    0.7037       300\n",
            "\n"
          ]
        },
        {
          "output_type": "display_data",
          "data": {
            "text/plain": [
              "<Figure size 640x480 with 2 Axes>"
            ],
            "image/png": "[encoded data removed]"
          },
          "metadata": {}
        }
      ],
      "source": [
        "# Training Decision Tree model\n",
        "dt = DecisionTreeClassifier(random_state=42)\n",
        "\n",
        "param_grid = {\n",
        "    'max_depth': [5, 10, 15, 20, None],\n",
        "    'min_samples_split': [2, 5, 10],\n",
        "    'min_samples_leaf': [1, 2, 5]\n",
        "}\n",
        "\n",
        "grid_search = GridSearchCV(estimator=dt, param_grid=param_grid, cv=5, n_jobs=-1, verbose=1)\n",
        "grid_search.fit(X_train, y_training)\n",
        "\n",
        "best_dt_model = grid_search.best_estimator_\n",
        "\n",
        "y_pred_dt = best_dt_model.predict(X_test)\n",
        "\n",
        "acc_dt = accuracy_score(y_test, y_pred_dt)\n",
        "print(f\"Accuracy with Decision Tree: {acc_dt:.4f}\\n\")\n",
        "print(\"Classification Report with Decision Tree:\")\n",
        "print(classification_report(y_test, y_pred_dt, digits=4))\n",
        "\n",
        "sns.heatmap(confusion_matrix(y_test, y_pred_dt), annot=True, fmt='d', cmap='Blues')\n",
        "plt.xlabel(\"Predicted\")\n",
        "plt.ylabel(\"Actual\")\n",
        "plt.title(\"Confusion Matrix with Decision Tree\")\n",
        "plt.show()"
      ]
    },
    {
      "cell_type": "markdown",
      "metadata": {
        "id": "DGEyS4PrYnfu"
      },
      "source": [
        "\n",
        "\n",
        "The **Decision Tree model** without PCA\n",
        "\n",
        "From the classification report:\n",
        "- **Class 0.0** (majority class): The model performs well, with high **precision (75.97%)** and **recall (76.47%)**.\n",
        "- **Class 1.0**: The recall for this class (63.51%) is better than Logistic Regression without PCA (54.05%), indicating that the Decision Tree is better at identifying this class.\n",
        "- **Class 2.0**: The model performs reasonably well with **precision (70.15%)** and **recall (64.38%)**.\n",
        "\n",
        "Comparison with Logistic Regression Models:\n",
        "- **Logistic Regression (with PCA)** achieved an accuracy of **71%**\n",
        "- The **Decision Tree** model has similar overall accuracy but **outperforms Logistic Regression (without PCA)**.\n",
        "- The **macro-average recall** for the Decision Tree (68.12%) is slightly better than both Logistic Regression models, suggesting it does a better job across all classes, particularly for Class 1.0.\n",
        "\n",
        "Conclusion:\n",
        "- The **Decision Tree** performs better than the Logistic Regression model, especially for **Class 1.0**, where recall is improved.\n",
        "- The **Decision Tree** provides a better balance of **precision and recall**\n"
      ]
    },
    {
      "cell_type": "markdown",
      "metadata": {
        "id": "je26V2SyYnfv"
      },
      "source": [
        "# Question 6\n",
        "- Repeat `Question 5` but use PCA.  \n",
        "- Does this perform better than the original Decision Tree or the logistic regression models?"
      ]
    },
    {
      "cell_type": "code",
      "source": [
        "# Training Decision Tree model with PCA with 13 features\n",
        "pipeline_dt_pca = Pipeline([\n",
        "    ('scaler', StandardScaler()),\n",
        "    ('pca', PCA(n_components=13)),\n",
        "    ('dt', dt)\n",
        "])\n",
        "\n",
        "param_grid = {\n",
        "    'dt__max_depth': [5, 10, 15, 20, None],\n",
        "    'dt__min_samples_split': [2, 5, 10],\n",
        "    'dt__min_samples_leaf': [1, 2, 5]\n",
        "}\n",
        "\n",
        "grid_search_dt_pca = GridSearchCV(estimator=pipeline_dt_pca, param_grid=param_grid, cv=5, n_jobs=-1, verbose=1)\n",
        "grid_search_dt_pca.fit(X_train, y_training)\n",
        "\n",
        "best_dt_pca_model = grid_search_dt_pca.best_estimator_\n",
        "\n",
        "y_pred_dt_pca = best_dt_pca_model.predict(X_test)\n",
        "\n",
        "acc_dt_pca = accuracy_score(y_test, y_pred_dt_pca)\n",
        "print(f\"Accuracy with Decision Tree + PCA: {acc_dt_pca:.4f}\\n\")\n",
        "print(\"Classification Report with Decision Tree + PCA:\")\n",
        "print(classification_report(y_test, y_pred_dt_pca, digits=4))\n",
        "\n",
        "sns.heatmap(confusion_matrix(y_test, y_pred_dt_pca), annot=True, fmt='d', cmap='Blues')\n",
        "plt.xlabel(\"Predicted\")\n",
        "plt.ylabel(\"Actual\")\n",
        "plt.title(\"Confusion Matrix with Decision Tree + PCA\")\n"
      ],
      "metadata": {
        "colab": {
          "base_uri": "https://localhost:8080/",
          "height": 732
        },
        "id": "h1RmIejuxIhp",
        "outputId": "fb49f707-0452-41f1-950e-d08ffae43350"
      },
      "execution_count": 66,
      "outputs": [
        {
          "output_type": "stream",
          "name": "stdout",
          "text": [
            "Fitting 5 folds for each of 45 candidates, totalling 225 fits\n",
            "Accuracy with Decision Tree + PCA: 0.6667\n",
            "\n",
            "Classification Report with Decision Tree + PCA:\n",
            "              precision    recall  f1-score   support\n",
            "\n",
            "         0.0     0.7283    0.8235    0.7730       153\n",
            "         1.0     0.6170    0.3919    0.4793        74\n",
            "         2.0     0.5625    0.6164    0.5882        73\n",
            "\n",
            "    accuracy                         0.6667       300\n",
            "   macro avg     0.6359    0.6106    0.6135       300\n",
            "weighted avg     0.6605    0.6667    0.6556       300\n",
            "\n"
          ]
        },
        {
          "output_type": "execute_result",
          "data": {
            "text/plain": [
              "Text(0.5, 1.0, 'Confusion Matrix with Decision Tree + PCA')"
            ]
          },
          "metadata": {},
          "execution_count": 66
        },
        {
          "output_type": "display_data",
          "data": {
            "text/plain": [
              "<Figure size 640x480 with 2 Axes>"
            ],
            "image/png": "[encoded data removed]"
          },
          "metadata": {}
        }
      ]
    },
    {
      "cell_type": "code",
      "execution_count": 65,
      "metadata": {
        "id": "FTd4tcBrYnfw",
        "colab": {
          "base_uri": "https://localhost:8080/",
          "height": 732
        },
        "outputId": "9a2bc589-b757-4e4b-f83f-62cfc8bec980"
      },
      "outputs": [
        {
          "output_type": "stream",
          "name": "stdout",
          "text": [
            "Fitting 5 folds for each of 45 candidates, totalling 225 fits\n",
            "Accuracy with Decision Tree + PCA: 0.7233\n",
            "\n",
            "Classification Report with Decision Tree + PCA:\n",
            "              precision    recall  f1-score   support\n",
            "\n",
            "         0.0     0.7593    0.8039    0.7810       153\n",
            "         1.0     0.7167    0.5811    0.6418        74\n",
            "         2.0     0.6538    0.6986    0.6755        73\n",
            "\n",
            "    accuracy                         0.7233       300\n",
            "   macro avg     0.7099    0.6945    0.6994       300\n",
            "weighted avg     0.7231    0.7233    0.7210       300\n",
            "\n"
          ]
        },
        {
          "output_type": "execute_result",
          "data": {
            "text/plain": [
              "Text(0.5, 1.0, 'Confusion Matrix with Decision Tree + PCA')"
            ]
          },
          "metadata": {},
          "execution_count": 65
        },
        {
          "output_type": "display_data",
          "data": {
            "text/plain": [
              "<Figure size 640x480 with 2 Axes>"
            ],
            "image/png": "[encoded data removed]"
          },
          "metadata": {}
        }
      ],
      "source": [
        "# Training Decision Tree model with PCA with 14 features\n",
        "pipeline_dt_pca = Pipeline([\n",
        "    ('scaler', StandardScaler()),\n",
        "    ('pca', PCA(n_components=14)),\n",
        "    ('dt', dt)\n",
        "])\n",
        "\n",
        "param_grid = {\n",
        "    'dt__max_depth': [5, 10, 15, 20, None],\n",
        "    'dt__min_samples_split': [2, 5, 10],\n",
        "    'dt__min_samples_leaf': [1, 2, 5]\n",
        "}\n",
        "\n",
        "grid_search_dt_pca = GridSearchCV(estimator=pipeline_dt_pca, param_grid=param_grid, cv=5, n_jobs=-1, verbose=1)\n",
        "grid_search_dt_pca.fit(X_train, y_training)\n",
        "\n",
        "best_dt_pca_model = grid_search_dt_pca.best_estimator_\n",
        "\n",
        "y_pred_dt_pca = best_dt_pca_model.predict(X_test)\n",
        "\n",
        "acc_dt_pca = accuracy_score(y_test, y_pred_dt_pca)\n",
        "print(f\"Accuracy with Decision Tree + PCA: {acc_dt_pca:.4f}\\n\")\n",
        "print(\"Classification Report with Decision Tree + PCA:\")\n",
        "print(classification_report(y_test, y_pred_dt_pca, digits=4))\n",
        "\n",
        "sns.heatmap(confusion_matrix(y_test, y_pred_dt_pca), annot=True, fmt='d', cmap='Blues')\n",
        "plt.xlabel(\"Predicted\")\n",
        "plt.ylabel(\"Actual\")\n",
        "plt.title(\"Confusion Matrix with Decision Tree + PCA\")\n"
      ]
    },
    {
      "cell_type": "markdown",
      "metadata": {
        "id": "QHVw939xYnfw"
      },
      "source": [
        "Decision Trees with 13 features performs lesser than one with 14 features. DT with 14 features performs better in accuracy than all the models that is 72%,  but Linear Regression with PCA looks balanced with respect to their classes and metrics like recall and precision so its better to go with logistic regression with PCA"
      ]
    }
  ],
  "metadata": {
    "kernelspec": {
      "display_name": "Python 3 (ipykernel)",
      "language": "python",
      "name": "python3"
    },
    "language_info": {
      "codemirror_mode": {
        "name": "ipython",
        "version": 3
      },
      "file_extension": ".py",
      "mimetype": "text/x-python",
      "name": "python",
      "nbconvert_exporter": "python",
      "pygments_lexer": "ipython3",
      "version": "3.12.4"
    },
    "toc": {
      "base_numbering": 1,
      "nav_menu": {},
      "number_sections": true,
      "sideBar": true,
      "skip_h1_title": false,
      "title_cell": "Table of Contents",
      "title_sidebar": "Contents",
      "toc_cell": false,
      "toc_position": {},
      "toc_section_display": true,
      "toc_window_display": false
    },
    "colab": {
      "provenance": []
    }
  },
  "nbformat": 4,
  "nbformat_minor": 0
}